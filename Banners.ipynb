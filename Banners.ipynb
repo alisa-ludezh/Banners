{
 "cells": [
  {
   "cell_type": "markdown",
   "metadata": {},
   "source": [
    "Представим, что международное круизное агентство Carnival Cruise Line решило себя разрекламировать с помощью баннеров и обратилось для этого к нам. Чтобы протестировать, велика ли от таких баннеров польза, их будет размещено всего 20 штук по всему миру. Необходимо выбрать 20 таких локаций для размещения, чтобы польза была большой и агентство продолжило с вами сотрудничать.\n",
    "\n",
    "Агентство крупное, и у него есть несколько офисов по всему миру. Вблизи этих офисов оно и хочет разместить баннеры — легче договариваться и проверять результат. Также эти места должны быть популярны среди туристов.\n",
    "\n",
    "Для поиска оптимальных мест воспользуемся базой данных крупнейшей социальной сети, основанной на локациях — Foursquare.\n",
    "Часть открытых данных есть, например, на сайте archive.org:\n",
    "https://archive.org/details/201309_foursquare_dataset_umn\n",
    "Будем пользоваться этими данными:"
   ]
  },
  {
   "cell_type": "code",
   "execution_count": 4,
   "metadata": {
    "collapsed": true
   },
   "outputs": [],
   "source": [
    "import pandas as pd\n",
    "from scipy.spatial.distance import euclidean\n",
    "import numpy as np\n",
    "from sklearn.cluster import MeanShift, estimate_bandwidth"
   ]
  },
  {
   "cell_type": "code",
   "execution_count": 5,
   "metadata": {
    "collapsed": true
   },
   "outputs": [],
   "source": [
    "columns = ['id', 'user_id', 'venue_id', 'latitude', 'longitude', 'created_at']"
   ]
  },
  {
   "cell_type": "code",
   "execution_count": 6,
   "metadata": {
    "collapsed": true
   },
   "outputs": [],
   "source": [
    "data = pd.read_csv('checkins.dat', sep='|', skiprows=[0, 1],\n",
    "                   header=None, parse_dates=['created_at'],\n",
    "                   names=columns, skipinitialspace=True, low_memory=False)\n",
    "data.dropna(axis=0, how='any', inplace=True)\n",
    "data = data.astype({'id':int, 'user_id':int, 'venue_id':int})"
   ]
  },
  {
   "cell_type": "code",
   "execution_count": 7,
   "metadata": {},
   "outputs": [
    {
     "name": "stdout",
     "output_type": "stream",
     "text": [
      "<class 'pandas.core.frame.DataFrame'>\n",
      "Int64Index: 396634 entries, 1 to 1021964\n",
      "Data columns (total 6 columns):\n",
      "id            396634 non-null int64\n",
      "user_id       396634 non-null int64\n",
      "venue_id      396634 non-null int64\n",
      "latitude      396634 non-null float64\n",
      "longitude     396634 non-null float64\n",
      "created_at    396634 non-null datetime64[ns]\n",
      "dtypes: datetime64[ns](1), float64(2), int64(3)\n",
      "memory usage: 21.2 MB\n",
      "None\n"
     ]
    },
    {
     "data": {
      "text/html": [
       "<div>\n",
       "<style scoped>\n",
       "    .dataframe tbody tr th:only-of-type {\n",
       "        vertical-align: middle;\n",
       "    }\n",
       "\n",
       "    .dataframe tbody tr th {\n",
       "        vertical-align: top;\n",
       "    }\n",
       "\n",
       "    .dataframe thead th {\n",
       "        text-align: right;\n",
       "    }\n",
       "</style>\n",
       "<table border=\"1\" class=\"dataframe\">\n",
       "  <thead>\n",
       "    <tr style=\"text-align: right;\">\n",
       "      <th></th>\n",
       "      <th>id</th>\n",
       "      <th>user_id</th>\n",
       "      <th>venue_id</th>\n",
       "      <th>latitude</th>\n",
       "      <th>longitude</th>\n",
       "      <th>created_at</th>\n",
       "    </tr>\n",
       "  </thead>\n",
       "  <tbody>\n",
       "    <tr>\n",
       "      <th>1021959</th>\n",
       "      <td>955561</td>\n",
       "      <td>626076</td>\n",
       "      <td>20073</td>\n",
       "      <td>40.850100</td>\n",
       "      <td>-73.866246</td>\n",
       "      <td>2012-04-13 09:56:48</td>\n",
       "    </tr>\n",
       "    <tr>\n",
       "      <th>1021960</th>\n",
       "      <td>955892</td>\n",
       "      <td>674797</td>\n",
       "      <td>2297</td>\n",
       "      <td>33.748995</td>\n",
       "      <td>-84.387982</td>\n",
       "      <td>2012-04-13 10:56:03</td>\n",
       "    </tr>\n",
       "    <tr>\n",
       "      <th>1021961</th>\n",
       "      <td>956377</td>\n",
       "      <td>845102</td>\n",
       "      <td>11195</td>\n",
       "      <td>42.765366</td>\n",
       "      <td>-71.467566</td>\n",
       "      <td>2012-04-13 12:08:45</td>\n",
       "    </tr>\n",
       "    <tr>\n",
       "      <th>1021962</th>\n",
       "      <td>956119</td>\n",
       "      <td>1139114</td>\n",
       "      <td>29488</td>\n",
       "      <td>42.439479</td>\n",
       "      <td>-83.743830</td>\n",
       "      <td>2012-04-13 11:36:44</td>\n",
       "    </tr>\n",
       "    <tr>\n",
       "      <th>1021964</th>\n",
       "      <td>956733</td>\n",
       "      <td>960666</td>\n",
       "      <td>60</td>\n",
       "      <td>42.331427</td>\n",
       "      <td>-83.045754</td>\n",
       "      <td>2012-04-13 21:56:19</td>\n",
       "    </tr>\n",
       "  </tbody>\n",
       "</table>\n",
       "</div>"
      ],
      "text/plain": [
       "             id  user_id  venue_id   latitude  longitude          created_at\n",
       "1021959  955561   626076     20073  40.850100 -73.866246 2012-04-13 09:56:48\n",
       "1021960  955892   674797      2297  33.748995 -84.387982 2012-04-13 10:56:03\n",
       "1021961  956377   845102     11195  42.765366 -71.467566 2012-04-13 12:08:45\n",
       "1021962  956119  1139114     29488  42.439479 -83.743830 2012-04-13 11:36:44\n",
       "1021964  956733   960666        60  42.331427 -83.045754 2012-04-13 21:56:19"
      ]
     },
     "execution_count": 7,
     "metadata": {},
     "output_type": "execute_result"
    }
   ],
   "source": [
    "print(data.info())\n",
    "data.tail()"
   ]
  },
  {
   "cell_type": "markdown",
   "metadata": {},
   "source": [
    "Formed subsample of 100000 rows"
   ]
  },
  {
   "cell_type": "code",
   "execution_count": 8,
   "metadata": {
    "collapsed": true
   },
   "outputs": [],
   "source": [
    "s_data = data[['id','latitude','longitude']][:100000]\n",
    "del data"
   ]
  },
  {
   "cell_type": "code",
   "execution_count": 9,
   "metadata": {
    "collapsed": true
   },
   "outputs": [],
   "source": [
    "s_data.set_index('id', inplace=True)"
   ]
  },
  {
   "cell_type": "markdown",
   "metadata": {},
   "source": [
    "Теперь необходимо кластеризовать данные координаты, чтобы выявить центры скоплений туристов. Поскольку баннеры имеют сравнительно небольшую площадь действия, нам нужен алгоритм, позволяющий ограничить размер кластера и не зависящий от количества кластеров.\n",
    "\n",
    "Некоторые из получившихся кластеров содержат слишком мало точек — такие кластеры не интересны рекламодателям. Поэтому надо определить, какие из кластеров содержат, скажем, больше 15 элементов. Центры этих кластеров и являются оптимальными для размещения."
   ]
  },
  {
   "cell_type": "code",
   "execution_count": 10,
   "metadata": {
    "collapsed": true
   },
   "outputs": [],
   "source": [
    "est = MeanShift(bandwidth=0.1)"
   ]
  },
  {
   "cell_type": "code",
   "execution_count": 11,
   "metadata": {},
   "outputs": [
    {
     "data": {
      "text/plain": [
       "MeanShift(bandwidth=0.1, bin_seeding=False, cluster_all=True, min_bin_freq=1,\n",
       "     n_jobs=1, seeds=None)"
      ]
     },
     "execution_count": 11,
     "metadata": {},
     "output_type": "execute_result"
    }
   ],
   "source": [
    "est.fit(s_data)"
   ]
  },
  {
   "cell_type": "code",
   "execution_count": 12,
   "metadata": {},
   "outputs": [],
   "source": [
    "res = pd.DataFrame(est.labels_)"
   ]
  },
  {
   "cell_type": "code",
   "execution_count": 13,
   "metadata": {},
   "outputs": [],
   "source": [
    "r = np.unique(est.labels_, return_counts=True)\n",
    "clusters = [est.cluster_centers_[x] for x,y in zip(r[0],r[1]) if y>15]"
   ]
  },
  {
   "cell_type": "markdown",
   "metadata": {},
   "source": [
    "20 баннеров надо разместить близ офисов компании. Найдем на Google Maps по запросу Carnival Cruise Line адреса всех офисов:"
   ]
  },
  {
   "cell_type": "code",
   "execution_count": 14,
   "metadata": {
    "collapsed": true
   },
   "outputs": [],
   "source": [
    "offices = np.array([[33.751277, -118.188740], [25.867736, -80.324116], [51.503016, -0.075479], [52.378894, 4.885084], [39.366487, 117.036146], [-33.868457, 151.205134]])"
   ]
  },
  {
   "cell_type": "code",
   "execution_count": 15,
   "metadata": {},
   "outputs": [
    {
     "data": {
      "text/plain": [
       "array([[ 3.37512770e+01, -1.18188740e+02],\n",
       "       [ 2.58677360e+01, -8.03241160e+01],\n",
       "       [ 5.15030160e+01, -7.54790000e-02],\n",
       "       [ 5.23788940e+01,  4.88508400e+00],\n",
       "       [ 3.93664870e+01,  1.17036146e+02],\n",
       "       [-3.38684570e+01,  1.51205134e+02]])"
      ]
     },
     "execution_count": 15,
     "metadata": {},
     "output_type": "execute_result"
    }
   ],
   "source": [
    "offices"
   ]
  },
  {
   "cell_type": "markdown",
   "metadata": {},
   "source": [
    "Осталось определить 20 ближайших к ним центров кластеров. Т.е. посчитать дистанцию до ближайшего офиса для каждой точки и выбрать 20 с наименьшим значением."
   ]
  },
  {
   "cell_type": "code",
   "execution_count": 16,
   "metadata": {},
   "outputs": [],
   "source": [
    "rslt_frame = pd.DataFrame.from_records(\n",
    "[[(min([euclidean(o, clu) for clu in clusters])),\n",
    "(np.argmin(np.array([euclidean(o, clu) for clu in clusters]))),\n",
    "(clusters[np.argmin(np.array([euclidean(o, clu) for clu in clusters]))])] for o in offices],\n",
    "    columns=['distance', 'cluster_id', 'coordinate'])"
   ]
  },
  {
   "cell_type": "code",
   "execution_count": 17,
   "metadata": {},
   "outputs": [
    {
     "data": {
      "text/html": [
       "<div>\n",
       "<style scoped>\n",
       "    .dataframe tbody tr th:only-of-type {\n",
       "        vertical-align: middle;\n",
       "    }\n",
       "\n",
       "    .dataframe tbody tr th {\n",
       "        vertical-align: top;\n",
       "    }\n",
       "\n",
       "    .dataframe thead th {\n",
       "        text-align: right;\n",
       "    }\n",
       "</style>\n",
       "<table border=\"1\" class=\"dataframe\">\n",
       "  <thead>\n",
       "    <tr style=\"text-align: right;\">\n",
       "      <th></th>\n",
       "      <th>distance</th>\n",
       "      <th>cluster_id</th>\n",
       "      <th>coordinate</th>\n",
       "    </tr>\n",
       "  </thead>\n",
       "  <tbody>\n",
       "    <tr>\n",
       "      <th>0</th>\n",
       "      <td>0.070848</td>\n",
       "      <td>51</td>\n",
       "      <td>[33.8098779552631, -118.14892380690813]</td>\n",
       "    </tr>\n",
       "    <tr>\n",
       "      <th>1</th>\n",
       "      <td>0.022674</td>\n",
       "      <td>412</td>\n",
       "      <td>[25.8456722642857, -80.31889059642857]</td>\n",
       "    </tr>\n",
       "    <tr>\n",
       "      <th>2</th>\n",
       "      <td>0.050058</td>\n",
       "      <td>58</td>\n",
       "      <td>[51.502991260887086, -0.12553728870967767]</td>\n",
       "    </tr>\n",
       "    <tr>\n",
       "      <th>3</th>\n",
       "      <td>0.009353</td>\n",
       "      <td>372</td>\n",
       "      <td>[52.37296399032261, 4.892317222580647]</td>\n",
       "    </tr>\n",
       "    <tr>\n",
       "      <th>4</th>\n",
       "      <td>9.267575</td>\n",
       "      <td>429</td>\n",
       "      <td>[31.230393000000017, 121.473704]</td>\n",
       "    </tr>\n",
       "    <tr>\n",
       "      <th>5</th>\n",
       "      <td>0.007835</td>\n",
       "      <td>403</td>\n",
       "      <td>[-33.86063042857143, 151.20477592857145]</td>\n",
       "    </tr>\n",
       "  </tbody>\n",
       "</table>\n",
       "</div>"
      ],
      "text/plain": [
       "   distance  cluster_id                                  coordinate\n",
       "0  0.070848          51     [33.8098779552631, -118.14892380690813]\n",
       "1  0.022674         412      [25.8456722642857, -80.31889059642857]\n",
       "2  0.050058          58  [51.502991260887086, -0.12553728870967767]\n",
       "3  0.009353         372      [52.37296399032261, 4.892317222580647]\n",
       "4  9.267575         429            [31.230393000000017, 121.473704]\n",
       "5  0.007835         403    [-33.86063042857143, 151.20477592857145]"
      ]
     },
     "execution_count": 17,
     "metadata": {},
     "output_type": "execute_result"
    }
   ],
   "source": [
    "rslt_frame"
   ]
  },
  {
   "cell_type": "markdown",
   "metadata": {},
   "source": [
    "Для сдачи задания выберите из получившихся 20 центров тот, который наименее удален от ближайшего к нему офиса. Ответ в этом задании — широта и долгота этого центра, записанные через пробел."
   ]
  },
  {
   "cell_type": "code",
   "execution_count": 18,
   "metadata": {},
   "outputs": [
    {
     "data": {
      "text/plain": [
       "5    [-33.86063042857143, 151.20477592857145]\n",
       "Name: coordinate, dtype: object"
      ]
     },
     "execution_count": 18,
     "metadata": {},
     "output_type": "execute_result"
    }
   ],
   "source": [
    "rslt_frame[rslt_frame.distance == rslt_frame.distance.min()].coordinate"
   ]
  },
  {
   "cell_type": "code",
   "execution_count": 19,
   "metadata": {},
   "outputs": [
    {
     "name": "stdout",
     "output_type": "stream",
     "text": [
      "Overwriting 'answ_banners.txt'\n"
     ]
    }
   ],
   "source": [
    "%%writefile 'answ_banners.txt'\n",
    "-33.868457 151.205134"
   ]
  }
 ],
 "metadata": {
  "kernelspec": {
   "display_name": "Python 3",
   "language": "python",
   "name": "python3"
  },
  "language_info": {
   "codemirror_mode": {
    "name": "ipython",
    "version": 3
   },
   "file_extension": ".py",
   "mimetype": "text/x-python",
   "name": "python",
   "nbconvert_exporter": "python",
   "pygments_lexer": "ipython3",
   "version": "3.6.3"
  },
  "toc": {
   "nav_menu": {},
   "number_sections": true,
   "sideBar": true,
   "skip_h1_title": false,
   "toc_cell": false,
   "toc_position": {},
   "toc_section_display": "block",
   "toc_window_display": true
  },
  "varInspector": {
   "cols": {
    "lenName": 16,
    "lenType": 16,
    "lenVar": 40
   },
   "kernels_config": {
    "python": {
     "delete_cmd_postfix": "",
     "delete_cmd_prefix": "del ",
     "library": "var_list.py",
     "varRefreshCmd": "print(var_dic_list())"
    },
    "r": {
     "delete_cmd_postfix": ") ",
     "delete_cmd_prefix": "rm(",
     "library": "var_list.r",
     "varRefreshCmd": "cat(var_dic_list()) "
    }
   },
   "position": {
    "height": "145px",
    "left": "796.085px",
    "right": "20px",
    "top": "-3.02273px",
    "width": "350px"
   },
   "types_to_exclude": [
    "module",
    "function",
    "builtin_function_or_method",
    "instance",
    "_Feature"
   ],
   "window_display": true
  }
 },
 "nbformat": 4,
 "nbformat_minor": 2
}
